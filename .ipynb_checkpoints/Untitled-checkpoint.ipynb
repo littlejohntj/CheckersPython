{
 "cells": [
  {
   "cell_type": "code",
   "execution_count": 1,
   "id": "a8172e4c",
   "metadata": {},
   "outputs": [],
   "source": [
    "import numpy as np"
   ]
  },
  {
   "cell_type": "code",
   "execution_count": 2,
   "id": "1e952d46",
   "metadata": {},
   "outputs": [
    {
     "data": {
      "text/plain": [
       "array([0., 0., 0., 0., 0., 0., 0., 0., 0., 0.])"
      ]
     },
     "execution_count": 2,
     "metadata": {},
     "output_type": "execute_result"
    }
   ],
   "source": [
    "np.zeros(10)"
   ]
  },
  {
   "cell_type": "code",
   "execution_count": 3,
   "id": "06017269",
   "metadata": {},
   "outputs": [],
   "source": [
    "board = []"
   ]
  },
  {
   "cell_type": "code",
   "execution_count": 4,
   "id": "f965eb58",
   "metadata": {},
   "outputs": [],
   "source": [
    "for _ in range(8):\n",
    "    board.append(np.zeros(8))"
   ]
  },
  {
   "cell_type": "code",
   "execution_count": 5,
   "id": "9f99c3a8",
   "metadata": {},
   "outputs": [
    {
     "name": "stdout",
     "output_type": "stream",
     "text": [
      "[array([0., 0., 0., 0., 0., 0., 0., 0.]), array([0., 0., 0., 0., 0., 0., 0., 0.]), array([0., 0., 0., 0., 0., 0., 0., 0.]), array([0., 0., 0., 0., 0., 0., 0., 0.]), array([0., 0., 0., 0., 0., 0., 0., 0.]), array([0., 0., 0., 0., 0., 0., 0., 0.]), array([0., 0., 0., 0., 0., 0., 0., 0.]), array([0., 0., 0., 0., 0., 0., 0., 0.])]\n"
     ]
    }
   ],
   "source": [
    "print(board)"
   ]
  },
  {
   "cell_type": "code",
   "execution_count": 6,
   "id": "aa4897c2",
   "metadata": {},
   "outputs": [
    {
     "name": "stdout",
     "output_type": "stream",
     "text": [
      "[0. 0. 0. 0. 0. 0. 0. 0.]\n",
      "[0. 0. 0. 0. 0. 0. 0. 0.]\n",
      "[0. 0. 0. 0. 0. 0. 0. 0.]\n",
      "[0. 0. 0. 0. 0. 0. 0. 0.]\n",
      "[0. 0. 0. 0. 0. 0. 0. 0.]\n",
      "[0. 0. 0. 0. 0. 0. 0. 0.]\n",
      "[0. 0. 0. 0. 0. 0. 0. 0.]\n",
      "[0. 0. 0. 0. 0. 0. 0. 0.]\n"
     ]
    }
   ],
   "source": [
    "for line in board:\n",
    "    print(line)"
   ]
  },
  {
   "cell_type": "code",
   "execution_count": 96,
   "id": "7d7996a9",
   "metadata": {},
   "outputs": [],
   "source": [
    "def make_board():\n",
    "    board = []\n",
    "    for _ in range(8):\n",
    "        board.append(np.zeros(8))\n",
    "    for i in range(8):\n",
    "        for j in range(8):\n",
    "            if i < 3 and ( (i % 2 == 1 and j % 2 == 0) or (i % 2 == 0 and j % 2 == 1) ):\n",
    "                board[i][j] = 1\n",
    "            elif i > 4 and ( (i % 2 == 1 and j % 2 == 0) or (i % 2 == 0 and j % 2 == 1) ):\n",
    "                board[i][j] = -1\n",
    "    return board"
   ]
  },
  {
   "cell_type": "code",
   "execution_count": 143,
   "id": "d07e939d",
   "metadata": {},
   "outputs": [],
   "source": [
    "board = make_board()"
   ]
  },
  {
   "cell_type": "code",
   "execution_count": 9,
   "id": "f5c292a5",
   "metadata": {},
   "outputs": [
    {
     "name": "stdout",
     "output_type": "stream",
     "text": [
      "[array([0., 0., 0., 0., 0., 0., 0., 0.]), array([0., 0., 0., 0., 0., 0., 0., 0.]), array([0., 0., 0., 0., 0., 0., 0., 0.]), array([0., 0., 0., 0., 0., 0., 0., 0.]), array([0., 0., 0., 0., 0., 0., 0., 0.]), array([0., 0., 0., 0., 0., 0., 0., 0.]), array([0., 0., 0., 0., 0., 0., 0., 0.]), array([0., 0., 0., 0., 0., 0., 0., 0.])]\n"
     ]
    }
   ],
   "source": [
    "print(board)"
   ]
  },
  {
   "cell_type": "code",
   "execution_count": 12,
   "id": "921382dc",
   "metadata": {},
   "outputs": [
    {
     "name": "stdout",
     "output_type": "stream",
     "text": [
      "[1. 0. 0. 0. 0. 0. 0. 0.]\n",
      "[0. 0. 0. 0. 0. 0. 0. 0.]\n",
      "[0. 0. 0. 0. 0. 0. 0. 0.]\n",
      "[0. 0. 0. 0. 0. 0. 0. 0.]\n",
      "[0. 0. 0. 0. 0. 0. 0. 0.]\n",
      "[0. 0. 0. 0. 0. 0. 0. 0.]\n",
      "[0. 0. 0. 0. 0. 0. 0. 0.]\n",
      "[0. 0. 0. 0. 0. 0. 0. 0.]\n"
     ]
    }
   ],
   "source": [
    "for line in board:\n",
    "    print(line)"
   ]
  },
  {
   "cell_type": "code",
   "execution_count": 11,
   "id": "8641f0ea",
   "metadata": {},
   "outputs": [],
   "source": [
    "board[0][0] = 1"
   ]
  },
  {
   "cell_type": "code",
   "execution_count": 163,
   "id": "26927c2f",
   "metadata": {},
   "outputs": [],
   "source": [
    "def print_board():\n",
    "    \n",
    "    def convert(piece):\n",
    "        if piece == 0:\n",
    "            return '_'\n",
    "        elif piece == 1:\n",
    "            return 'X'\n",
    "        elif piece == -1:\n",
    "            return 'O'\n",
    "    \n",
    "    for line in board:\n",
    "        formated_line = [convert(piece) for piece in line]\n",
    "        print(''.join(formated_line))"
   ]
  },
  {
   "cell_type": "code",
   "execution_count": 164,
   "id": "0fa14f94",
   "metadata": {},
   "outputs": [
    {
     "name": "stdout",
     "output_type": "stream",
     "text": [
      "_X_X_X_X\n",
      "X_X_X_X_\n",
      "_X_X_X_X\n",
      "________\n",
      "________\n",
      "O_O_O_O_\n",
      "_O_O_O_O\n",
      "O_O_O_O_\n"
     ]
    }
   ],
   "source": [
    "print_board()"
   ]
  },
  {
   "cell_type": "code",
   "execution_count": 112,
   "id": "6c0048e0",
   "metadata": {},
   "outputs": [],
   "source": [
    "turn = 1"
   ]
  },
  {
   "cell_type": "code",
   "execution_count": 17,
   "id": "a595a922",
   "metadata": {},
   "outputs": [],
   "source": [
    "def move_piece(row, col):\n",
    "    board[row][col] = 0"
   ]
  },
  {
   "cell_type": "code",
   "execution_count": 103,
   "id": "1664cbd1",
   "metadata": {},
   "outputs": [],
   "source": [
    "def move_piece(row, col, direction, user):\n",
    "    \n",
    "    if board[row][col] == 0:\n",
    "        return\n",
    "    \n",
    "    if board[row][col] != user:\n",
    "        return\n",
    "    \n",
    "    if user != turn:\n",
    "        return\n",
    "    \n",
    "    new_row = row\n",
    "    new_col = col\n",
    "    \n",
    "    row_modifier = 0\n",
    "    if user == -1:\n",
    "        row_modifier = -1\n",
    "    elif user == 1:\n",
    "        row_modifier = 1\n",
    "    \n",
    "    if new_row + row_modifier > 7 or new_row + row_modifier < 0:\n",
    "        return\n",
    "    \n",
    "    \n",
    "    col_modifier = 0\n",
    "    if direction == 'r':\n",
    "        col_modifier = 1\n",
    "    elif direction == 'l':\n",
    "        col_modifier = -1\n",
    "    if new_col + col_modifier < 0 or new_col + col_modifier > 7:\n",
    "        return\n",
    "    \n",
    "    board[row][col] = 0\n",
    "    board[new_row + row_modifier][new_col + col_modifier] = user\n",
    "    turn = user * -1"
   ]
  },
  {
   "cell_type": "code",
   "execution_count": 131,
   "id": "2ce01fbc",
   "metadata": {},
   "outputs": [],
   "source": [
    "def move_and_print(row, col, direction, user):\n",
    "    move_piece(row, col, direction, user)\n",
    "    print_board()"
   ]
  },
  {
   "cell_type": "code",
   "execution_count": 20,
   "id": "0d60a2de",
   "metadata": {},
   "outputs": [],
   "source": [
    "move_and_print(0,0)"
   ]
  },
  {
   "cell_type": "code",
   "execution_count": 105,
   "id": "30bdc887",
   "metadata": {},
   "outputs": [
    {
     "name": "stdout",
     "output_type": "stream",
     "text": [
      "[0. 1. 0. 1. 0. 1. 0. 1.]\n",
      "[1. 0. 1. 0. 1. 0. 1. 0.]\n",
      "[0. 1. 0. 1. 0. 1. 0. 1.]\n",
      "[0. 0. 0. 0. 0. 0. 0. 0.]\n",
      "[0. 0. 0. 0. 0. 0. 0. 0.]\n",
      "[-1.  0. -1.  0. -1.  0. -1.  0.]\n",
      "[ 0. -1.  0. -1.  0. -1.  0. -1.]\n",
      "[-1.  0. -1.  0. -1.  0. -1.  0.]\n"
     ]
    }
   ],
   "source": [
    "print_board()"
   ]
  },
  {
   "cell_type": "code",
   "execution_count": 22,
   "id": "10228361",
   "metadata": {},
   "outputs": [],
   "source": [
    "move_and_print(0,1)"
   ]
  },
  {
   "cell_type": "code",
   "execution_count": 156,
   "id": "f7d4abf9",
   "metadata": {},
   "outputs": [
    {
     "name": "stdout",
     "output_type": "stream",
     "text": [
      "[0.0, 1.0, 0.0, 1.0, 0.0, 1.0, 0.0, 1.0]\n",
      "[1.0, 0.0, 1.0, 0.0, 1.0, 0.0, 1.0, 0.0]\n",
      "[0.0, 1.0, 0.0, 1.0, 0.0, 1.0, 0.0, 1.0]\n",
      "[0.0, 0.0, 0.0, 0.0, 0.0, 0.0, 0.0, 0.0]\n",
      "[0.0, 0.0, 0.0, 0.0, 0.0, 0.0, 0.0, 0.0]\n",
      "[-1.0, 0.0, -1.0, 0.0, -1.0, 0.0, -1.0, 0.0]\n",
      "[0.0, -1.0, 0.0, -1.0, 0.0, -1.0, 0.0, -1.0]\n",
      "[-1.0, 0.0, -1.0, 0.0, -1.0, 0.0, -1.0, 0.0]\n"
     ]
    }
   ],
   "source": [
    "print_board()"
   ]
  },
  {
   "cell_type": "code",
   "execution_count": 24,
   "id": "87c3a014",
   "metadata": {},
   "outputs": [],
   "source": [
    "move_piece(0,2)"
   ]
  },
  {
   "cell_type": "code",
   "execution_count": 25,
   "id": "4872f273",
   "metadata": {},
   "outputs": [
    {
     "name": "stdout",
     "output_type": "stream",
     "text": [
      "[0. 0. 0. 1. 0. 0. 0. 0.]\n",
      "[0. 0. 0. 0. 0. 0. 0. 0.]\n",
      "[0. 0. 0. 0. 0. 0. 0. 0.]\n",
      "[0. 0. 0. 0. 0. 0. 0. 0.]\n",
      "[0. 0. 0. 0. 0. 0. 0. 0.]\n",
      "[0. 0. 0. 0. 0. 0. 0. 0.]\n",
      "[0. 0. 0. 0. 0. 0. 0. 0.]\n",
      "[0. 0. 0. 0. 0. 0. 0. 0.]\n"
     ]
    }
   ],
   "source": [
    "print_board()"
   ]
  },
  {
   "cell_type": "code",
   "execution_count": 28,
   "id": "ca540ff7",
   "metadata": {},
   "outputs": [
    {
     "name": "stdout",
     "output_type": "stream",
     "text": [
      "[0. 0. 0. 1. 0. 1. 0. 0.]\n",
      "[0. 0. 0. 0. 0. 0. 0. 0.]\n",
      "[0. 0. 0. 0. 0. 0. 0. 0.]\n",
      "[0. 0. 0. 0. 0. 0. 0. 0.]\n",
      "[0. 0. 0. 0. 0. 0. 0. 0.]\n",
      "[0. 0. 0. 0. 0. 0. 0. 0.]\n",
      "[0. 0. 0. 0. 0. 0. 0. 0.]\n",
      "[0. 0. 0. 0. 0. 0. 0. 0.]\n"
     ]
    }
   ],
   "source": [
    "move_and_print(0,4)"
   ]
  },
  {
   "cell_type": "code",
   "execution_count": 31,
   "id": "4e68eec9",
   "metadata": {},
   "outputs": [
    {
     "name": "stdout",
     "output_type": "stream",
     "text": [
      "[0. 0. 0. 1. 0. 0. 0. 0.]\n",
      "[1. 0. 0. 0. 0. 0. 0. 0.]\n",
      "[0. 0. 0. 0. 0. 0. 0. 0.]\n",
      "[0. 0. 0. 0. 0. 0. 0. 0.]\n",
      "[0. 0. 0. 0. 0. 0. 0. 0.]\n",
      "[0. 0. 0. 0. 0. 0. 0. 0.]\n",
      "[0. 0. 0. 0. 0. 0. 0. 0.]\n",
      "[0. 0. 0. 0. 0. 0. 0. 0.]\n"
     ]
    }
   ],
   "source": [
    "move_and_print(0,7)"
   ]
  },
  {
   "cell_type": "code",
   "execution_count": 32,
   "id": "21b57aa2",
   "metadata": {},
   "outputs": [],
   "source": [
    "board = make_board()"
   ]
  },
  {
   "cell_type": "code",
   "execution_count": 33,
   "id": "eae90078",
   "metadata": {},
   "outputs": [],
   "source": [
    "board[0][0] = 1"
   ]
  },
  {
   "cell_type": "code",
   "execution_count": 40,
   "id": "404f7b92",
   "metadata": {},
   "outputs": [
    {
     "name": "stdout",
     "output_type": "stream",
     "text": [
      "[0. 0. 0. 0. 0. 0. 0. 1.]\n",
      "[0. 0. 0. 0. 0. 0. 0. 0.]\n",
      "[0. 0. 0. 0. 0. 0. 0. 0.]\n",
      "[0. 0. 0. 0. 0. 0. 0. 0.]\n",
      "[0. 0. 0. 0. 0. 0. 0. 0.]\n",
      "[0. 0. 0. 0. 0. 0. 0. 0.]\n",
      "[0. 0. 0. 0. 0. 0. 0. 0.]\n",
      "[0. 0. 0. 0. 0. 0. 0. 0.]\n"
     ]
    }
   ],
   "source": [
    "move_and_print(0,6)"
   ]
  },
  {
   "cell_type": "code",
   "execution_count": 154,
   "id": "b6f5b01e",
   "metadata": {},
   "outputs": [],
   "source": [
    "board = make_board()"
   ]
  },
  {
   "cell_type": "code",
   "execution_count": 50,
   "id": "0ee30f02",
   "metadata": {},
   "outputs": [
    {
     "name": "stdout",
     "output_type": "stream",
     "text": [
      "[0. 0. 0. 0. 0. 0. 0. 0.]\n",
      "[0. 0. 0. 0. 0. 0. 0. 0.]\n",
      "[0. 0. 0. 0. 0. 0. 0. 0.]\n",
      "[0. 0. 0. 0. 0. 0. 0. 0.]\n",
      "[0. 0. 0. 0. 0. 0. 0. 0.]\n",
      "[0. 0. 0. 0. 0. 0. 0. 0.]\n",
      "[0. 0. 0. 0. 0. 0. 0. 0.]\n",
      "[0. 0. 0. 0. 0. 0. 0. 0.]\n"
     ]
    }
   ],
   "source": [
    "move_and_print(0, 0, 'r')"
   ]
  },
  {
   "cell_type": "code",
   "execution_count": 60,
   "id": "c59df02a",
   "metadata": {},
   "outputs": [],
   "source": [
    "board[0][0] = 1"
   ]
  },
  {
   "cell_type": "code",
   "execution_count": 58,
   "id": "3acf7844",
   "metadata": {},
   "outputs": [
    {
     "name": "stdout",
     "output_type": "stream",
     "text": [
      "[0. 0. 0. 0. 0. 0. 0. 0.]\n",
      "[0. 0. 0. 0. 0. 0. 0. 0.]\n",
      "[0. 0. 0. 0. 0. 0. 0. 0.]\n",
      "[0. 0. 0. 0. 0. 0. 0. 0.]\n",
      "[0. 0. 0. 0. 0. 0. 0. 0.]\n",
      "[0. 0. 0. 0. 0. 0. 0. 0.]\n",
      "[0. 0. 0. 0. 0. 0. 0. 0.]\n",
      "[0. 0. 0. 0. 0. 0. 0. 0.]\n"
     ]
    }
   ],
   "source": [
    "move_and_print(6, 0, 'l')"
   ]
  },
  {
   "cell_type": "code",
   "execution_count": 67,
   "id": "c6b44a88",
   "metadata": {},
   "outputs": [
    {
     "name": "stdout",
     "output_type": "stream",
     "text": [
      "[0. 0. 0. 0. 0. 0. 0. 0.]\n",
      "[0. 0. 0. 0. 0. 0. 0. 0.]\n",
      "[0. 0. 0. 0. 0. 0. 0. 0.]\n",
      "[0. 1. 0. 0. 0. 0. 0. 0.]\n",
      "[0. 0. 0. 0. 0. 0. 0. 0.]\n",
      "[0. 0. 0. 0. 0. 0. 0. 0.]\n",
      "[0. 0. 0. 0. 0. 0. 0. 0.]\n",
      "[0. 0. 0. 0. 0. 0. 0. 0.]\n"
     ]
    }
   ],
   "source": [
    "move_and_print(2, 0, 'r')"
   ]
  },
  {
   "cell_type": "code",
   "execution_count": null,
   "id": "17ee6c57",
   "metadata": {},
   "outputs": [],
   "source": []
  },
  {
   "cell_type": "code",
   "execution_count": 111,
   "id": "f9e46998",
   "metadata": {},
   "outputs": [
    {
     "data": {
      "text/plain": [
       "-1"
      ]
     },
     "execution_count": 111,
     "metadata": {},
     "output_type": "execute_result"
    }
   ],
   "source": [
    "turn"
   ]
  },
  {
   "cell_type": "code",
   "execution_count": 106,
   "id": "b7af4815",
   "metadata": {},
   "outputs": [
    {
     "data": {
      "text/plain": [
       "-1"
      ]
     },
     "execution_count": 106,
     "metadata": {},
     "output_type": "execute_result"
    }
   ],
   "source": [
    "turn"
   ]
  },
  {
   "cell_type": "code",
   "execution_count": 107,
   "id": "ecabc2e6",
   "metadata": {},
   "outputs": [
    {
     "name": "stdout",
     "output_type": "stream",
     "text": [
      "[0. 1. 0. 1. 0. 1. 0. 1.]\n",
      "[1. 0. 1. 0. 1. 0. 1. 0.]\n",
      "[0. 1. 0. 1. 0. 1. 0. 1.]\n",
      "[0. 0. 0. 0. 0. 0. 0. 0.]\n",
      "[0. 0. 0. 0. 0. 0. 0. 0.]\n",
      "[-1.  0. -1.  0. -1.  0. -1.  0.]\n",
      "[ 0. -1.  0. -1.  0. -1.  0. -1.]\n",
      "[-1.  0. -1.  0. -1.  0. -1.  0.]\n"
     ]
    }
   ],
   "source": [
    "print_board()"
   ]
  },
  {
   "cell_type": "code",
   "execution_count": 110,
   "id": "e7c1c088",
   "metadata": {},
   "outputs": [
    {
     "ename": "UnboundLocalError",
     "evalue": "local variable 'turn' referenced before assignment",
     "output_type": "error",
     "traceback": [
      "\u001b[0;31m---------------------------------------------------------------------------\u001b[0m",
      "\u001b[0;31mUnboundLocalError\u001b[0m                         Traceback (most recent call last)",
      "Input \u001b[0;32mIn [110]\u001b[0m, in \u001b[0;36m<module>\u001b[0;34m\u001b[0m\n\u001b[0;32m----> 1\u001b[0m \u001b[43mmove_and_print\u001b[49m\u001b[43m(\u001b[49m\u001b[38;5;241;43m5\u001b[39;49m\u001b[43m,\u001b[49m\u001b[43m \u001b[49m\u001b[38;5;241;43m0\u001b[39;49m\u001b[43m,\u001b[49m\u001b[43m \u001b[49m\u001b[38;5;124;43m'\u001b[39;49m\u001b[38;5;124;43mr\u001b[39;49m\u001b[38;5;124;43m'\u001b[39;49m\u001b[43m,\u001b[49m\u001b[43m \u001b[49m\u001b[38;5;241;43m-\u001b[39;49m\u001b[38;5;241;43m1\u001b[39;49m\u001b[43m)\u001b[49m\n",
      "Input \u001b[0;32mIn [104]\u001b[0m, in \u001b[0;36mmove_and_print\u001b[0;34m(row, col, direction, user)\u001b[0m\n\u001b[1;32m      1\u001b[0m \u001b[38;5;28;01mdef\u001b[39;00m \u001b[38;5;21mmove_and_print\u001b[39m(row, col, direction, user):\n\u001b[0;32m----> 2\u001b[0m     \u001b[43mmove_piece\u001b[49m\u001b[43m(\u001b[49m\u001b[43mrow\u001b[49m\u001b[43m,\u001b[49m\u001b[43m \u001b[49m\u001b[43mcol\u001b[49m\u001b[43m,\u001b[49m\u001b[43m \u001b[49m\u001b[43mdirection\u001b[49m\u001b[43m,\u001b[49m\u001b[43m \u001b[49m\u001b[43muser\u001b[49m\u001b[43m)\u001b[49m\n\u001b[1;32m      3\u001b[0m     print_board()\n",
      "Input \u001b[0;32mIn [103]\u001b[0m, in \u001b[0;36mmove_piece\u001b[0;34m(row, col, direction, user)\u001b[0m\n\u001b[1;32m      6\u001b[0m \u001b[38;5;28;01mif\u001b[39;00m board[row][col] \u001b[38;5;241m!=\u001b[39m user:\n\u001b[1;32m      7\u001b[0m     \u001b[38;5;28;01mreturn\u001b[39;00m\n\u001b[0;32m----> 9\u001b[0m \u001b[38;5;28;01mif\u001b[39;00m user \u001b[38;5;241m!=\u001b[39m \u001b[43mturn\u001b[49m:\n\u001b[1;32m     10\u001b[0m     \u001b[38;5;28;01mreturn\u001b[39;00m\n\u001b[1;32m     12\u001b[0m new_row \u001b[38;5;241m=\u001b[39m row\n",
      "\u001b[0;31mUnboundLocalError\u001b[0m: local variable 'turn' referenced before assignment"
     ]
    }
   ],
   "source": [
    "move_and_print(5, 0, 'r', -1)"
   ]
  },
  {
   "cell_type": "code",
   "execution_count": 204,
   "id": "83d4dd5d",
   "metadata": {},
   "outputs": [],
   "source": [
    "def move_piece(row, col, direction, user):\n",
    "    \n",
    "    if board[row][col] == 0:\n",
    "        return\n",
    "    \n",
    "    if board[row][col] != user:\n",
    "        return\n",
    "    \n",
    "    new_row = row\n",
    "    new_col = col\n",
    "    \n",
    "    row_modifier = 0\n",
    "    if user == -1:\n",
    "        row_modifier = -1\n",
    "    elif user == 1:\n",
    "        row_modifier = 1\n",
    "    \n",
    "    if new_row + row_modifier > 7 or new_row + row_modifier < 0:\n",
    "        return\n",
    "    \n",
    "    \n",
    "    col_modifier = 0\n",
    "    if direction == 'r':\n",
    "        col_modifier = 1\n",
    "    elif direction == 'l':\n",
    "        col_modifier = -1\n",
    "    if new_col + col_modifier < 0 or new_col + col_modifier > 7:\n",
    "        return\n",
    "    \n",
    "    new_row = new_row + row_modifier\n",
    "    new_col = new_col + col_modifier\n",
    "    \n",
    "    if board[new_row][new_col] == user:\n",
    "        print('GAY')\n",
    "        return\n",
    "    \n",
    "    if board[new_row][new_col] == user * -1:\n",
    "        \n",
    "        # possible jump situation\n",
    "    \n",
    "        if new_row + row_modifier < 0 or new_row + row_modifier > 7 or new_col + col_modifier < 0 or new_col + col_modifier > 7:\n",
    "            print('WOW')\n",
    "            return\n",
    "        \n",
    "        if board[new_row + row_modifier][new_col + col_modifier] != 0:\n",
    "            print('fuck')\n",
    "            return\n",
    "        \n",
    "        board[new_row][new_col] = 0\n",
    "        print('yikes')\n",
    "        \n",
    "        new_row = new_row + row_modifier\n",
    "        new_col = new_col + col_modifier\n",
    "        \n",
    "    board[row][col] = 0\n",
    "    \n",
    "    if user == -1:\n",
    "        if new_row == 0:\n",
    "            board[new_row][new_col] = -2\n",
    "    elif user == 1:\n",
    "        \n",
    "    \n",
    "    if user == -1 and new_row == 0:\n",
    "        board[new_row][new_col] = -2\n",
    "    else:\n",
    "        board[new_row][new_col] = -1\n",
    "        \n",
    "    if user == 1 and new_row == 7:\n",
    "        board[new_row][new_col] = 2\n",
    "    else:\n",
    "        board[new_row][new_col] = 1\n",
    "    "
   ]
  },
  {
   "cell_type": "code",
   "execution_count": 114,
   "id": "c9a7dfea",
   "metadata": {},
   "outputs": [
    {
     "ename": "UnboundLocalError",
     "evalue": "local variable 'turn' referenced before assignment",
     "output_type": "error",
     "traceback": [
      "\u001b[0;31m---------------------------------------------------------------------------\u001b[0m",
      "\u001b[0;31mUnboundLocalError\u001b[0m                         Traceback (most recent call last)",
      "Input \u001b[0;32mIn [114]\u001b[0m, in \u001b[0;36m<module>\u001b[0;34m\u001b[0m\n\u001b[0;32m----> 1\u001b[0m \u001b[43mmove_and_print\u001b[49m\u001b[43m(\u001b[49m\u001b[38;5;241;43m5\u001b[39;49m\u001b[43m,\u001b[49m\u001b[43m \u001b[49m\u001b[38;5;241;43m0\u001b[39;49m\u001b[43m,\u001b[49m\u001b[43m \u001b[49m\u001b[38;5;124;43m'\u001b[39;49m\u001b[38;5;124;43mr\u001b[39;49m\u001b[38;5;124;43m'\u001b[39;49m\u001b[43m,\u001b[49m\u001b[43m \u001b[49m\u001b[38;5;241;43m-\u001b[39;49m\u001b[38;5;241;43m1\u001b[39;49m\u001b[43m)\u001b[49m\n",
      "Input \u001b[0;32mIn [104]\u001b[0m, in \u001b[0;36mmove_and_print\u001b[0;34m(row, col, direction, user)\u001b[0m\n\u001b[1;32m      1\u001b[0m \u001b[38;5;28;01mdef\u001b[39;00m \u001b[38;5;21mmove_and_print\u001b[39m(row, col, direction, user):\n\u001b[0;32m----> 2\u001b[0m     \u001b[43mmove_piece\u001b[49m\u001b[43m(\u001b[49m\u001b[43mrow\u001b[49m\u001b[43m,\u001b[49m\u001b[43m \u001b[49m\u001b[43mcol\u001b[49m\u001b[43m,\u001b[49m\u001b[43m \u001b[49m\u001b[43mdirection\u001b[49m\u001b[43m,\u001b[49m\u001b[43m \u001b[49m\u001b[43muser\u001b[49m\u001b[43m)\u001b[49m\n\u001b[1;32m      3\u001b[0m     print_board()\n",
      "Input \u001b[0;32mIn [113]\u001b[0m, in \u001b[0;36mmove_piece\u001b[0;34m(row, col, direction, user)\u001b[0m\n\u001b[1;32m      6\u001b[0m \u001b[38;5;28;01mif\u001b[39;00m board[row][col] \u001b[38;5;241m!=\u001b[39m user:\n\u001b[1;32m      7\u001b[0m     \u001b[38;5;28;01mreturn\u001b[39;00m\n\u001b[0;32m----> 9\u001b[0m \u001b[38;5;28;01mif\u001b[39;00m user \u001b[38;5;241m!=\u001b[39m \u001b[43mturn\u001b[49m:\n\u001b[1;32m     10\u001b[0m     \u001b[38;5;28;01mreturn\u001b[39;00m\n\u001b[1;32m     12\u001b[0m new_row \u001b[38;5;241m=\u001b[39m row\n",
      "\u001b[0;31mUnboundLocalError\u001b[0m: local variable 'turn' referenced before assignment"
     ]
    }
   ],
   "source": [
    "move_and_print(5, 0, 'r', -1)"
   ]
  },
  {
   "cell_type": "code",
   "execution_count": 115,
   "id": "45f0711d",
   "metadata": {},
   "outputs": [
    {
     "data": {
      "text/plain": [
       "1"
      ]
     },
     "execution_count": 115,
     "metadata": {},
     "output_type": "execute_result"
    }
   ],
   "source": [
    "turn"
   ]
  },
  {
   "cell_type": "code",
   "execution_count": 127,
   "id": "c329d71c",
   "metadata": {},
   "outputs": [],
   "source": [
    "user_turn = -1"
   ]
  },
  {
   "cell_type": "code",
   "execution_count": 183,
   "id": "45b712b4",
   "metadata": {},
   "outputs": [
    {
     "name": "stdout",
     "output_type": "stream",
     "text": [
      "yikes\n",
      "_X_X_X_X\n",
      "X_X_X_X_\n",
      "___X___O\n",
      "________\n",
      "_O_____X\n",
      "X_O_____\n",
      "_O_O_O_O\n",
      "O_O_O_O_\n"
     ]
    }
   ],
   "source": [
    "move_and_print(2, 5, 'r', 1)"
   ]
  },
  {
   "cell_type": "code",
   "execution_count": 185,
   "id": "9f48196d",
   "metadata": {},
   "outputs": [],
   "source": [
    "def reset():\n",
    "    board = make_board()\n",
    "    print_board()"
   ]
  },
  {
   "cell_type": "code",
   "execution_count": 187,
   "id": "41ca7c7f",
   "metadata": {},
   "outputs": [
    {
     "name": "stdout",
     "output_type": "stream",
     "text": [
      "_X_X_X_X\n",
      "X_X_X_X_\n",
      "___X___O\n",
      "________\n",
      "_O_____X\n",
      "X_O_____\n",
      "_O_O_O_O\n",
      "O_O_O_O_\n"
     ]
    }
   ],
   "source": [
    "reset()"
   ]
  },
  {
   "cell_type": "code",
   "execution_count": 188,
   "id": "de883b6c",
   "metadata": {},
   "outputs": [],
   "source": [
    "board = make_board()"
   ]
  },
  {
   "cell_type": "code",
   "execution_count": 189,
   "id": "dc502aa8",
   "metadata": {},
   "outputs": [
    {
     "name": "stdout",
     "output_type": "stream",
     "text": [
      "_X_X_X_X\n",
      "X_X_X_X_\n",
      "_X_X_X_X\n",
      "________\n",
      "________\n",
      "O_O_O_O_\n",
      "_O_O_O_O\n",
      "O_O_O_O_\n"
     ]
    }
   ],
   "source": [
    "print_board()"
   ]
  },
  {
   "cell_type": "code",
   "execution_count": 203,
   "id": "366989ec",
   "metadata": {
    "scrolled": true
   },
   "outputs": [
    {
     "name": "stdout",
     "output_type": "stream",
     "text": [
      "_X_X_X_X\n",
      "X___X_X_\n",
      "_X___X_X\n",
      "________\n",
      "________\n",
      "__O_O_X_\n",
      "_O_O_O_O\n",
      "O_O_O_O_\n"
     ]
    }
   ],
   "source": [
    "move_and_print(7, 0, 'r', 1)"
   ]
  },
  {
   "cell_type": "code",
   "execution_count": 205,
   "id": "5fccb019",
   "metadata": {},
   "outputs": [
    {
     "name": "stdout",
     "output_type": "stream",
     "text": [
      "_X_X_X_X\n",
      "X___X_X_\n",
      "_X___X_X\n",
      "________\n",
      "___X____\n",
      "__O___X_\n",
      "_O_O_O_O\n",
      "O_O_O_O_\n"
     ]
    }
   ],
   "source": [
    "move_and_print(5, 4, 'l', -1)"
   ]
  },
  {
   "cell_type": "code",
   "execution_count": null,
   "id": "284a5999",
   "metadata": {},
   "outputs": [],
   "source": []
  }
 ],
 "metadata": {
  "kernelspec": {
   "display_name": "Python 3 (ipykernel)",
   "language": "python",
   "name": "python3"
  },
  "language_info": {
   "codemirror_mode": {
    "name": "ipython",
    "version": 3
   },
   "file_extension": ".py",
   "mimetype": "text/x-python",
   "name": "python",
   "nbconvert_exporter": "python",
   "pygments_lexer": "ipython3",
   "version": "3.9.9"
  }
 },
 "nbformat": 4,
 "nbformat_minor": 5
}
